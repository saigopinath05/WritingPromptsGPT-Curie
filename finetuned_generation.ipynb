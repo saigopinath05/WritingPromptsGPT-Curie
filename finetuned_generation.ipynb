{
 "cells": [
  {
   "cell_type": "markdown",
   "id": "93bc682e",
   "metadata": {},
   "source": [
    "# Fine Tuning GPT3-Curie with r/WritingPrompts\n",
    "\n",
    "This is an open-ended project to explore the fine-tuning process of GPT-3 and the panic around AI replacing writing jobs. I would like to ascertain how valuable fine-training is with creative tasks like short stories; for example, how does a fine-tuned curie model, with much lower parameters and cost of generation, compare to the out of the box davinci model? Additionally, it will be interesting to see whether the quality of stories from all models come close to human quality at all.\n",
    "\n",
    "In this project, I scrape top posts and corresponding top comments from the subreddit WritingPrompts, and use them as training data for OpenAI's gpt3 curie model. I then compare performance across three models (fine-tuned curie, default curie, and default davinci) with a prompt from training and a new prompt and subjectively evaluate their story quality. "
   ]
  },
  {
   "cell_type": "code",
   "execution_count": 5,
   "id": "7c35c8e6",
   "metadata": {},
   "outputs": [],
   "source": [
    "import praw\n",
    "import pandas as pd\n",
    "import openai\n",
    "import os"
   ]
  },
  {
   "cell_type": "markdown",
   "id": "d741890b",
   "metadata": {},
   "source": [
    "We use PRAW (Python Reddit API Wrapper) to easily scrape the top 1000 posts from the WritingPrompts subreddit. Since we will not be posting, read-only access is sufficient."
   ]
  },
  {
   "cell_type": "code",
   "execution_count": 31,
   "id": "d58d4bbe",
   "metadata": {},
   "outputs": [],
   "source": [
    "reddit_read_only = praw.Reddit(client_id=\"e0V6G5HrMUQC2Xy9n6Q-Pw\",\n",
    "                               client_secret=\"3cZxVleFnIQoOXyeSf0q0YNYu_CSfQ\",\n",
    "                               user_agent=\"Writingprompts Scraping\")\n",
    "subreddit = reddit_read_only.subreddit(\"WritingPrompts\")"
   ]
  },
  {
   "cell_type": "code",
   "execution_count": 63,
   "id": "16890d77",
   "metadata": {
    "scrolled": false
   },
   "outputs": [
    {
     "data": {
      "text/html": [
       "<div>\n",
       "<style scoped>\n",
       "    .dataframe tbody tr th:only-of-type {\n",
       "        vertical-align: middle;\n",
       "    }\n",
       "\n",
       "    .dataframe tbody tr th {\n",
       "        vertical-align: top;\n",
       "    }\n",
       "\n",
       "    .dataframe thead th {\n",
       "        text-align: right;\n",
       "    }\n",
       "</style>\n",
       "<table border=\"1\" class=\"dataframe\">\n",
       "  <thead>\n",
       "    <tr style=\"text-align: right;\">\n",
       "      <th></th>\n",
       "      <th>Prompt</th>\n",
       "      <th>Completion</th>\n",
       "    </tr>\n",
       "  </thead>\n",
       "  <tbody>\n",
       "    <tr>\n",
       "      <th>0</th>\n",
       "      <td>Write a short story that builds on this prompt...</td>\n",
       "      <td>There he sat, twirling his personal, stylized ...</td>\n",
       "    </tr>\n",
       "    <tr>\n",
       "      <th>1</th>\n",
       "      <td>Write a short story that builds on this prompt...</td>\n",
       "      <td>Just as Donald was about to press the button t...</td>\n",
       "    </tr>\n",
       "    <tr>\n",
       "      <th>2</th>\n",
       "      <td>Write a short story that builds on this prompt...</td>\n",
       "      <td>Edited July 28, 2020\\n\\nDear YouTube: StoryShu...</td>\n",
       "    </tr>\n",
       "    <tr>\n",
       "      <th>3</th>\n",
       "      <td>Write a short story that builds on this prompt...</td>\n",
       "      <td>We called it humanity's worst disaster. Histor...</td>\n",
       "    </tr>\n",
       "    <tr>\n",
       "      <th>4</th>\n",
       "      <td>Write a short story that builds on this prompt...</td>\n",
       "      <td>It had already been explained to me by the clo...</td>\n",
       "    </tr>\n",
       "    <tr>\n",
       "      <th>...</th>\n",
       "      <td>...</td>\n",
       "      <td>...</td>\n",
       "    </tr>\n",
       "    <tr>\n",
       "      <th>993</th>\n",
       "      <td>Write a short story that builds on this prompt...</td>\n",
       "      <td>Black clad and armed, the team of men that had...</td>\n",
       "    </tr>\n",
       "    <tr>\n",
       "      <th>994</th>\n",
       "      <td>Write a short story that builds on this prompt...</td>\n",
       "      <td>\"Have you ever considered, you know, doing som...</td>\n",
       "    </tr>\n",
       "    <tr>\n",
       "      <th>995</th>\n",
       "      <td>Write a short story that builds on this prompt...</td>\n",
       "      <td>I'm the grave-digger for secrets. I bore pits ...</td>\n",
       "    </tr>\n",
       "    <tr>\n",
       "      <th>996</th>\n",
       "      <td>Write a short story that builds on this prompt...</td>\n",
       "      <td>Something wasn't right with Jeremy.\\n\\nHis cow...</td>\n",
       "    </tr>\n",
       "    <tr>\n",
       "      <th>997</th>\n",
       "      <td>Write a short story that builds on this prompt...</td>\n",
       "      <td>She had heard the hum of the waterfall, the cr...</td>\n",
       "    </tr>\n",
       "  </tbody>\n",
       "</table>\n",
       "<p>998 rows × 2 columns</p>\n",
       "</div>"
      ],
      "text/plain": [
       "                                                Prompt  \\\n",
       "0    Write a short story that builds on this prompt...   \n",
       "1    Write a short story that builds on this prompt...   \n",
       "2    Write a short story that builds on this prompt...   \n",
       "3    Write a short story that builds on this prompt...   \n",
       "4    Write a short story that builds on this prompt...   \n",
       "..                                                 ...   \n",
       "993  Write a short story that builds on this prompt...   \n",
       "994  Write a short story that builds on this prompt...   \n",
       "995  Write a short story that builds on this prompt...   \n",
       "996  Write a short story that builds on this prompt...   \n",
       "997  Write a short story that builds on this prompt...   \n",
       "\n",
       "                                            Completion  \n",
       "0    There he sat, twirling his personal, stylized ...  \n",
       "1    Just as Donald was about to press the button t...  \n",
       "2    Edited July 28, 2020\\n\\nDear YouTube: StoryShu...  \n",
       "3    We called it humanity's worst disaster. Histor...  \n",
       "4    It had already been explained to me by the clo...  \n",
       "..                                                 ...  \n",
       "993  Black clad and armed, the team of men that had...  \n",
       "994  \"Have you ever considered, you know, doing som...  \n",
       "995  I'm the grave-digger for secrets. I bore pits ...  \n",
       "996  Something wasn't right with Jeremy.\\n\\nHis cow...  \n",
       "997  She had heard the hum of the waterfall, the cr...  \n",
       "\n",
       "[998 rows x 2 columns]"
      ]
     },
     "execution_count": 63,
     "metadata": {},
     "output_type": "execute_result"
    }
   ],
   "source": [
    "posts = subreddit.top(time_filter = 'all', limit = 1000)\n",
    "\n",
    "posts_dict = {\"Prompt\": [], \"Completion\": []}\n",
    "\n",
    "for post in posts:\n",
    "    title = post.title\n",
    "    url = post.url\n",
    "    \n",
    "    # skip ads\n",
    "    if \"reddit\" not in url:\n",
    "        continue\n",
    "    \n",
    "    posts_dict[\"Prompt\"].append(\"Write a short story that builds on this prompt: \" + title[5:])\n",
    "    \n",
    "    submission = reddit_read_only.submission(url=url)\n",
    "    \n",
    "    for comment in submission.comments[1:]:\n",
    "        #sometimes the top comment has been deleted, just look for the next one\n",
    "        if \"[deleted]\" not in comment.body:\n",
    "            top_comment = comment\n",
    "            break\n",
    "    posts_dict[\"Completion\"].append(top_comment.body)\n",
    "    \n",
    "    \n",
    "top_posts = pd.DataFrame(posts_dict)\n",
    "top_posts\n",
    "    "
   ]
  },
  {
   "cell_type": "markdown",
   "id": "4b4aa86b",
   "metadata": {},
   "source": [
    "We iterate through the top 1000 posts. There were two ads that were falsely classified as posts which we have to skip. I initially added \"Write a short story that builds on this prompt:\" to the beginning of each prompt as I assumed this was the clearest way to prompt GPT to write a story, but this was deemed unneccessary and removed by openai's data preparation tool. I only took the top comment for each post (skipping comments that were deleted), as models are generally trained with 1:1 input to output, but it would be interesting to see if the model could handle training with multiple outputs for the same input. "
   ]
  },
  {
   "cell_type": "code",
   "execution_count": 64,
   "id": "2f27c056",
   "metadata": {},
   "outputs": [],
   "source": [
    "top_posts.to_csv(\"top_posts.csv\", index=True)"
   ]
  },
  {
   "cell_type": "code",
   "execution_count": null,
   "id": "9c12205b",
   "metadata": {},
   "outputs": [],
   "source": [
    "!pip install --upgrade openai"
   ]
  },
  {
   "cell_type": "markdown",
   "id": "a8ba0b50",
   "metadata": {},
   "source": [
    "We let the openai data preparation tool take all neccessary and reccommended actions in order for training to go as smoothly as possible. 11 examples were removed for being too long, leaving us with 987 examples. "
   ]
  },
  {
   "cell_type": "code",
   "execution_count": 65,
   "id": "815b90d7",
   "metadata": {},
   "outputs": [
    {
     "name": "stdout",
     "output_type": "stream",
     "text": [
      "Analyzing...\n",
      "\n",
      "- Based on your file extension, your file is formatted as a CSV file\n",
      "- Your file contains 998 prompt-completion pairs\n",
      "- The `prompt` column/key should be lowercase\n",
      "- The `completion` column/key should be lowercase\n",
      "- The input file should contain exactly two columns/keys per row. Additional columns/keys present are: ['Unnamed: 0']\n",
      "  WARNING: Some of the additional columns/keys contain `Unnamed: 0` in their name. These will be ignored, and the column/key `Unnamed: 0` will be used instead. This could also result from a duplicate column/key in the provided file.\n",
      "- There are 11 examples that are very long. These are rows: [36, 93, 108, 199, 247, 303, 362, 589, 650, 807, 962]\n",
      "For conditional generation, and for classification the examples shouldn't be longer than 2048 tokens.\n",
      "- Your data does not contain a common separator at the end of your prompts. Having a separator string appended to the end of the prompt makes it clearer to the fine-tuned model where the completion should begin. See https://platform.openai.com/docs/guides/fine-tuning/preparing-your-dataset for more detail and examples. If you intend to do open-ended generation, then you should leave the prompts empty\n",
      "- All prompts start with prefix `Write a short story that builds on this prompt: `. Fine-tuning doesn't require the instruction specifying the task, or a few-shot example scenario. Most of the time you should only add the input data into the prompt, and the desired output into the completion\n",
      "- Your data does not contain a common ending at the end of your completions. Having a common ending string appended to the end of the completion makes it clearer to the fine-tuned model where the completion should end. See https://platform.openai.com/docs/guides/fine-tuning/preparing-your-dataset for more detail and examples.\n",
      "- The completion should start with a whitespace character (` `). This tends to produce better results due to the tokenization we use. See https://platform.openai.com/docs/guides/fine-tuning/preparing-your-dataset for more details\n",
      "\n",
      "Based on the analysis we will perform the following actions:\n",
      "- [Necessary] Your format `CSV` will be converted to `JSONL`\n",
      "- [Necessary] Lower case column name to `prompt`\n",
      "- [Necessary] Lower case column name to `completion`\n",
      "- [Necessary] Remove additional columns/keys: ['Unnamed: 0']\n",
      "- [Recommended] Remove 11 long examples [Y/n]: Y\n",
      "- [Recommended] Add a suffix separator ` ->` to all prompts [Y/n]: Y\n",
      "- [Recommended] Remove prefix `Write a short story that builds on this prompt: ` from all prompts [Y/n]: Y\n",
      "- [Recommended] Add a suffix ending ` END` to all completions [Y/n]: Y\n",
      "- [Recommended] Add a whitespace character to the beginning of the completion [Y/n]: Y\n",
      "\n",
      "\n",
      "Your data will be written to a new JSONL file. Proceed [Y/n]: Y\n",
      "\n",
      "Wrote modified file to `top_posts_prepared.jsonl`\n",
      "Feel free to take a look!\n",
      "\n",
      "Now use that file when fine-tuning:\n",
      "> openai api fine_tunes.create -t \"top_posts_prepared.jsonl\"\n",
      "\n",
      "After you’ve fine-tuned a model, remember that your prompt has to end with the indicator string ` ->` for the model to start generating completions, rather than continuing with the prompt. Make sure to include `stop=[\" END\"]` so that the generated texts ends at the expected place.\n",
      "Once your model starts training, it'll approximately take 51.05 minutes to train a `curie` model, and less for `ada` and `babbage`. Queue will approximately take half an hour per job ahead of you.\n"
     ]
    }
   ],
   "source": [
    "!openai tools fine_tunes.prepare_data -f top_posts.csv -q"
   ]
  },
  {
   "cell_type": "code",
   "execution_count": 7,
   "id": "635969b4",
   "metadata": {},
   "outputs": [],
   "source": [
    "os.environ[\"OPENAI_API_KEY\"] = \"API KEY HERE\""
   ]
  },
  {
   "cell_type": "markdown",
   "id": "8ad892e6",
   "metadata": {},
   "source": [
    "We use the default model curie. According to openai's documentation, curie is comparable in quality to the davinci model but with significantly less training time. The task is too complex to use a lower level model like ada or babbage."
   ]
  },
  {
   "cell_type": "code",
   "execution_count": null,
   "id": "48a7669a",
   "metadata": {},
   "outputs": [],
   "source": [
    "!openai tools fine_tunes.prepare_data -f top_posts_short.csv -q"
   ]
  },
  {
   "cell_type": "code",
   "execution_count": 73,
   "id": "21e03072",
   "metadata": {},
   "outputs": [
    {
     "name": "stdout",
     "output_type": "stream",
     "text": [
      "Found potentially duplicated files with name 'top_posts_short_prepared.jsonl', purpose 'fine-tune' and size 2118656 bytes\n",
      "file-SNFn6sjPf1WCvabKEkLZZ3we\n",
      "Enter file ID to reuse an already uploaded file, or an empty string to upload this file anyway: ^C\n",
      "\n"
     ]
    }
   ],
   "source": [
    "!openai api fine_tunes.create -t \"top_posts_short_prepared.jsonl\""
   ]
  },
  {
   "cell_type": "markdown",
   "id": "53621e49",
   "metadata": {},
   "source": [
    "Initially, I wanted to train with the full set of examples, but the length was causing me several issues, so I prepared a shortened version of the file (500 examples). I was unable to respond to the duplication prompt through notebook, so I had to run this command in my local terminal instead."
   ]
  },
  {
   "cell_type": "code",
   "execution_count": 75,
   "id": "e9919ced",
   "metadata": {
    "scrolled": true
   },
   "outputs": [
    {
     "name": "stdout",
     "output_type": "stream",
     "text": [
      "[2023-05-31 14:00:17] Created fine-tune: ft-u3jjIvHDKkK7ZziZdGqZnmh8\n",
      "[2023-05-31 14:01:32] Fine-tune costs $6.21\n",
      "[2023-05-31 14:01:33] Fine-tune enqueued. Queue number: 0\n",
      "[2023-05-31 14:01:34] Fine-tune started\n",
      "[2023-05-31 14:04:09] Completed epoch 1/4\n",
      "[2023-05-31 14:15:28] Fine-tune started\n",
      "[2023-05-31 14:17:57] Completed epoch 1/4\n",
      "[2023-05-31 14:19:23] Completed epoch 2/4\n",
      "[2023-05-31 14:20:50] Completed epoch 3/4\n",
      "[2023-05-31 14:22:17] Completed epoch 4/4\n",
      "[2023-05-31 14:22:34] Uploaded model: curie:ft-personal-2023-05-31-21-22-34\n",
      "[2023-05-31 14:22:35] Uploaded result file: file-inkHEF6j3Mh9BW1mmHhrCTcb\n",
      "[2023-05-31 14:22:35] Fine-tune succeeded\n",
      "\n",
      "Job complete! Status: succeeded 🎉\n",
      "Try out your fine-tuned model:\n",
      "\n",
      "openai api completions.create -m curie:ft-personal-2023-05-31-21-22-34 -p <YOUR_PROMPT>\n"
     ]
    }
   ],
   "source": [
    "!openai api fine_tunes.follow -i \"ft-u3jjIvHDKkK7ZziZdGqZnmh8\""
   ]
  },
  {
   "cell_type": "markdown",
   "id": "13dd8e60",
   "metadata": {},
   "source": [
    "Our finetuned model is ready! Lets try giving it one of the prompts it already trained on first. We use the same prompt with different temperatures on the finetuned curie model, the default curie model, and the default davinci models. "
   ]
  },
  {
   "cell_type": "code",
   "execution_count": 14,
   "id": "b581d768",
   "metadata": {},
   "outputs": [],
   "source": [
    "openai.api_key = \"API KEY HERE\""
   ]
  },
  {
   "cell_type": "code",
   "execution_count": 17,
   "id": "e96382cb",
   "metadata": {},
   "outputs": [
    {
     "data": {
      "text/plain": [
       "' I was sitting in the back row of the theater, my legs tucked under me. I was wearing a black hoodie and black jeans. My hair was a little longer than it had been in my previous life. I was watching the movie, but I wasn\\'t really paying attention. I was thinking about how I was going to get home. I didn\\'t have a car, and I didn\\'t have enough money for a taxi.\\n\\nI heard a couple people talking in the front row. One of them was a woman with brown hair and brown eyes. She was wearing a red dress. The other person was a man with black hair and black eyes. He was wearing a black suit.\\n\\n\"I don\\'t know why he has to be so mean to her,\" the woman said. \"He doesn\\'t even like her.\"\\n\\n\"He\\'s just trying to scare her,\" the man replied. \"He\\'s a bully.\"\\n\\n\"I know, but he\\'s so mean. I don\\'t understand why he does that.\"\\n\\n\"He\\'s just trying to prove how tough he is,\" the man said. \"He\\'s a bully.\"\\n\\nI looked at the two of them. They looked like they were in their twenties. The woman had brown hair and brown eyes. She was wearing a red dress. The man had black hair and black eyes. He was wearing a black suit.\\n\\n\"I don\\'t know why he has to be so mean to her,\" the woman said. \"He doesn\\'t even like her.\"\\n\\n\"He\\'s just trying to scare her,\" the man replied. \"He\\'s a bully.\"\\n\\n\"I know, but he\\'s so mean. I don\\'t understand why he does that.\"\\n\\n\"He\\'s just trying to prove how tough he is,\" the man said. \"He\\'s a bully.\"\\n\\nI looked at the two of them. They looked like they were in their twenties. The woman had brown hair and brown eyes. She was wearing a red dress. The man had black hair and black eyes. He was wearing a black suit.\\n\\n\"I don\\'t know why he has to be so mean to her,\" the woman said. \"He doesn\\'t even like her.\"\\n\\n\"He\\'s just trying to scare her,\" the man replied. \"He\\'s a bully.\"\\n\\n\"I know, but he\\'s so mean. I don\\'t understand why he does that.\"\\n\\n\"He\\'s just trying to prove how tough he is,\" the man replied. \"He\\'s a bully.\"\\n\\nI looked at the two of them. They looked like they were in their twenties. The woman had brown hair and brown eyes. She was wearing a red dress. The man had black hair and black eyes. He was wearing a black suit.\\n\\n\"I don\\'t know why he has to be so mean to her,\" the woman said. \"He doesn\\'t even like her.\"\\n\\n\"He\\'s just trying to scare her,\" the man replied. \"He\\'s a bully.\"\\n\\n\"I know, but he\\'s so mean. I don\\'t understand why he does that.\"\\n\\n\"He\\'s just trying to prove how tough he is,\" the man replied. \"He\\'s a bully.\"\\n\\nI looked at the two of them. They looked like they were in their twenties. The woman had brown hair and brown eyes. She was wearing a red dress. The man had black hair and black eyes. He was wearing a black suit.\\n\\n\"I don\\'t know why he has to be so mean to her,\" the woman said. \"He doesn\\'t even like her.\"\\n\\n\"He\\'s just trying to scare her,\" the man replied. \"He\\'s a bully.\"\\n\\n\"I know, but he\\'s so mean. I don\\'t understand why he does that.\"\\n\\n\"He\\'s just trying to prove how tough he is,\" the man replied. \"He\\'s a bully.\"\\n\\nI looked at the two of them. They looked like they were in their twenties. The woman had brown hair and brown eyes. She was wearing a red dress. The man had black hair and black eyes. He was wearing a black suit.\\n\\n\"I don\\'t know why he has to be so mean to her,\" the woman said. \"He doesn\\'t even like her.\"\\n\\n\"He\\'s just trying to scare her,\" the man replied. \"He\\'s a bully.\"\\n\\n\"I know, but he\\'s so mean. I don\\'t understand why he does that.\"\\n\\n\"He\\'s just trying to prove how tough he is,\" the man replied. \"He\\'s a bully.\"\\n\\nI looked at the two of them. They looked like they were in their twenties. The woman had brown hair and brown eyes. She was wearing a red dress. The man had black hair and black eyes. He was wearing a black suit.\\n\\n\"I don\\'t know why he has to be so mean to her,\" the woman said. \"He doesn\\'t even like her.\"\\n\\n\"He\\'s just trying to scare her,\" the man replied. \"He\\'s a bully.\"\\n\\n\"I know, but he\\'s so mean. I don\\'t understand why he does that.\"\\n\\n\"He\\'s just trying to prove how tough he is,\" the man replied. \"He\\'s a bully.\"\\n\\nI looked at the two of them. They looked like they were in their twenties. The woman had brown hair and brown eyes. She was wearing a red dress. The man had black hair and black eyes. He was wearing a black suit.\\n\\n\"I don\\'t know why he has to be so mean to her,\" the woman said. \"He doesn\\'t even like her.\"\\n\\n\"He\\'s just trying to scare her,\" the man replied. \"He\\'s a bully.\"\\n\\n\"I know, but he\\'s so mean. I don\\'t understand why he does that.\"\\n\\n\"He\\'s just trying to prove how tough he is,\" the man replied. \"He\\'s a bully.\"\\n\\nI looked at the two of them. They looked like they were in their twenties. The woman had brown hair and brown eyes. She was wearing a red dress. The man had black hair and black eyes. He was wearing a black suit.\\n\\n\"I don\\'t know why he has to be so mean to her,\" the woman said. \"He doesn\\'t even like her.\"\\n\\n\"He\\'s just trying to scare her,\" the man replied. \"He\\'s a bully.\"\\n\\n\"I know, but he\\'s so mean. I don\\'t understand why he does that.\"\\n\\n\"He\\'s just trying to prove how tough he is,\" the man replied. \"He\\'s a bully.\"\\n\\nI looked at the two of them. They looked like they were in their twenties. The woman had brown hair and brown eyes. She was wearing a red dress. The man had black hair and black eyes. He was wearing a black suit.\\n\\n\"I don\\'t know why he has to be so mean to her,\" the woman said. \"He doesn\\'t even like her.\"\\n\\n\"He\\'s just trying to scare her,\" the man replied. \"He'"
      ]
     },
     "execution_count": 17,
     "metadata": {},
     "output_type": "execute_result"
    }
   ],
   "source": [
    "ft_model = 'curie:ft-personal-2023-05-31-21-22-34'\n",
    "prompt = \"When you die, you appear in a cinema with a number of other people who look like you. You find out that they are your previous reincarnations, and soon you all begin watching your next life on the big screen. ->\"\n",
    "result = openai.Completion.create(model=ft_model, prompt=prompt, max_tokens=1500, temperature=0)\n",
    "result['choices'][0]['text']"
   ]
  },
  {
   "cell_type": "code",
   "execution_count": 19,
   "id": "2723f8e5",
   "metadata": {},
   "outputs": [
    {
     "data": {
      "text/plain": [
       "\" The first person to die was a woman named Frances. She was found dead in her bed, a bottle of sleeping pills beside her.\\n\\nThe next person to die was a man named Paul. He was found hanging from a tree, his neck snapped.\\n\\nThe next was a woman named Mary. She was found floating in a pond, an empty bottle of liquor beside her.\\n\\nThe next was a man named James. He was found lying on the tracks, his head crushed by a train.\\n\\nAnd so it went. One by one, they died, and they went to the afterlife. But there was something strange about the afterlife. It was all a bit... boring. There was no music, no laughter, no color. Just them. All of them, watching their next life unfold on a screen.\\n\\nThey didn't know it yet, but they were all going to die again.\\n\\n&nbsp;\\n\\n&nbsp;\\n\\n&nbsp;\\n\\n&nbsp;\\n\\n&nbsp;\\n\\n&nbsp;\\n\\n&nbsp;\\n\\n&nbsp;\\n\\n&nbsp;\\n\\n&nbsp;\\n\\n&nbsp;\\n\\n&nbsp;\\n\\n&nbsp;\\n\\n&nbsp;\\n\\n&nbsp;\\n\\n&nbsp;\\n\\n&nbsp;\\n\\n&nbsp;\\n\\n&nbsp;\\n\\n&nbsp;\\n\\n&nbsp;\\n\\n&nbsp;\\n\\n&nbsp;\\n\\n&nbsp;\\n\\n&nbsp;\\n\\n&nbsp;\\n\\n&nbsp;\\n\\n&nbsp;\\n\\n&nbsp;\\n\\n&nbsp;\\n\\n&nbsp;\\n\\n&nbsp;\\n\\n&nbsp;\\n\\n&nbsp;\\n\\n&nbsp;\\n\\n&nbsp;\\n\\n&nbsp;\\n\\n&nbsp;\\n\\n&nbsp;\\n\\n&nbsp;\\n\\n&nbsp;\\n\\n&nbsp;\\n\\n&nbsp;\\n\\n&nbsp;\\n\\n&nbsp;\\n\\n&nbsp;\\n\\n&nbsp;\\n\\n&nbsp;\\n\\n&nbsp;\\n\\n&nbsp;\\n\\n&nbsp;\\n\\n&nbsp;\\n\\n&nbsp;\\n\\n&nbsp;\\n\\n&nbsp;\\n\\n&nbsp;\\n\\n&nbsp;\\n\\n&nbsp;\\n\\n&nbsp;\\n\\n&nbsp;\\n\\n&nbsp;\\n\\n&nbsp;\\n\\n&nbsp;\\n\\n&nbsp;\\n\\n&nbsp;\\n\\n&nbsp;\\n\\n&nbsp;\\n\\n&nbsp;\\n\\n&nbsp;\\n\\n&nbsp;\\n\\n&nbsp;\\n\\n&nbsp;\\n\\n&nbsp;\\n\\n&nbsp;\\n\\n&nbsp;\\n\\n&nbsp;\\n\\n&nbsp;\\n\\n&nbsp;\\n\\n&nbsp;\\n\\n&nbsp;\\n\\n&nbsp;\\n\\n&nbsp;\\n\\n&nbsp;\\n\\n&nbsp;\\n\\n&nbsp;\\n\\n&nbsp;\\n\\n&nbsp;\\n\\n&nbsp;\\n\\n&nbsp;\\n\\n&nbsp;\\n\\n&nbsp;\\n\\n&nbsp;\\n\\n&nbsp;\\n\\n&nbsp;\\n\\n&nbsp;\\n\\n&nbsp;\\n\\n&nbsp;\\n\\n&nbsp;\\n\\n&nbsp;\\n\\n&nbsp;\\n\\n&nbsp;\\n\\n&nbsp;\\n\\n&nbsp;\\n\\n&nbsp;\\n\\n&nbsp;\\n\\n&nbsp;\\n\\n&nbsp;\\n\\n&nbsp;\\n\\n&nbsp;\\n\\n&nbsp;\\n\\n&nbsp;\\n\\n&nbsp;\\n\\n&nbsp;\\n\\n&nbsp;\\n\\n&nbsp;\\n\\n&nbsp;\\n\\n&nbsp;\\n\\n&nbsp;\\n\\n&nbsp;\\n\\n&nbsp;\\n\\n&nbsp;\\n\\n&nbsp;\\n\\n&nbsp;\\n\\n&nbsp;\\n\\n&nbsp;\\n\\n&nbsp;\\n\\n&nbsp;\\n\\n&nbsp;\\n\\n&nbsp;\\n\\n&nbsp;\\n\\n&nbsp;\\n\\n&nbsp;\\n\\n&nbsp;\\n\\n&nbsp;\\n\\n&nbsp;\\n\\n&nbsp;\\n\\n&nbsp;\\n\\n&nbsp;\\n\\n&nbsp;\\n\\n&nbsp;\\n\\n&nbsp;\\n\\n&nbsp;\\n\\n&nbsp;\\n\\n&nbsp;\\n\\n&nbsp;\\n\\n&nbsp;\\n\\n&nbsp;\\n\\n&nbsp;\\n\\n&nbsp;\\n\\n&nbsp;\\n\\n&nbsp;\\n\\n&nbsp;\\n\\n&nbsp;\\n\\n&nbsp;\\n\\n&nbsp;\\n\\n&nbsp;\\n\\n&nbsp;\\n\\n&nbsp;\\n\\n&nbsp;\\n\\n&nbsp;\\n\\n&nbsp;\\n\\n&nbsp;\\n\\n&nbsp;\\n\\n&nbsp;\\n\\n&nbsp;\\n\\n&nbsp;\\n\\n&nbsp;\\n\\n&nbsp;\\n\\n&nbsp;\\n\\n&nbsp;\\n\\n&nbsp;\\n\\n&nbsp;\\n\\n&nbsp;\\n\\n&nbsp;\\n\\n&nbsp;\\n\\n&nbsp;\\n\\n&nbsp;\\n\\n&nbsp;\\n\\n&nbsp;\\n\\n&nbsp;\\n\\n&nbsp;\\n\\n&nbsp;\\n\\n&nbsp;\\n\\n&nbsp;\\n\\n&nbsp;\\n\\n&nbsp;\\n\\n&nbsp;\\n\\n&nbsp;\\n\\n&nbsp;\\n\\n&nbsp;\\n\\n&nbsp;\\n\\n&nbsp;\\n\\n&nbsp;\\n\\n&nbsp;\\n\\n&nbsp;\\n\\n&nbsp;\\n\\n&nbsp;\\n\\n&nbsp;\\n\\n&nbsp;\\n\\n&nbsp;\\n\\n&nbsp;\\n\\n&nbsp;\\n\\n&nbsp;\\n\\n&nbsp;\\n\\n&nbsp;\\n\\n&nbsp;\\n\\n&nbsp;\\n\\n&nbsp;\\n\\n&nbsp;\\n\\n&nbsp;\\n\\n&nbsp;\\n\\n&nbsp;\\n\\n&nbsp;\\n\\n&nbsp;\\n\\n&nbsp;\\n\\n&nbsp;\\n\\n&nbsp;\\n\\n&nbsp;\\n\\n&nbsp;\""
      ]
     },
     "execution_count": 19,
     "metadata": {},
     "output_type": "execute_result"
    }
   ],
   "source": [
    "result = openai.Completion.create(model=ft_model, prompt=prompt, max_tokens=1500, temperature=.5)\n",
    "result['choices'][0]['text']"
   ]
  },
  {
   "cell_type": "code",
   "execution_count": 21,
   "id": "07423628",
   "metadata": {},
   "outputs": [
    {
     "data": {
      "text/plain": [
       "' You are a reincarnation of a girl who died in a car accident. You are watching your next life on the big screen. -> You are a reincarnation of a girl who died in a car accident. You are watching your next life on the big screen. -> You are a reincarnation of a girl who died in a car accident. You are watching your next life on the big screen. -> You are a reincarnation of a girl who died in a car accident. You are watching your next life on the big screen. -> You are a reincarnation of a girl who died in a car accident. You are watching your next life on the big screen. -> You are a reincarnation of a girl who died in a car accident. You are watching your next life on the big screen. -> You are a reincarnation of a girl who died in a car accident. You are watching your next life on the big screen. -> You are a reincarnation of a girl who died in a car accident. You are watching your next life on the big screen. -> You are a reincarnation of a girl who died in a car accident. You are watching your next life on the big screen. -> You are a reincarnation of a girl who died in a car accident. You are watching your next life on the big screen. -> You are a reincarnation of a girl who died in a car accident. You are watching your next life on the big screen. -> You are a reincarnation of a girl who died in a car accident. You are watching your next life on the big screen. -> You are a reincarnation of a girl who died in a car accident. You are watching your next life on the big screen. -> You are a reincarnation of a girl who died in a car accident. You are watching your next life on the big screen. -> You are a reincarnation of a girl who died in a car accident. You are watching your next life on the big screen. -> You are a reincarnation of a girl who died in a car accident. You are watching your next life on the big screen. -> You are a reincarnation of a girl who died in a car accident. You are watching your next life on the big screen. -> You are a reincarnation of a girl who died in a car accident. You are watching your next life on the big screen. -> You are a reincarnation of a girl who died in a car accident. You are watching your next life on the big screen. -> You are a reincarnation of a girl who died in a car accident. You are watching your next life on the big screen. -> You are a reincarnation of a girl who died in a car accident. You are watching your next life on the big screen. -> You are a reincarnation of a girl who died in a car accident. You are watching your next life on the big screen. -> You are a reincarnation of a girl who died in a car accident. You are watching your next life on the big screen. -> You are a reincarnation of a girl who died in a car accident. You are watching your next life on the big screen. -> You are a reincarnation of a girl who died in a car accident. You are watching your next life on the big screen. -> You are a reincarnation of a girl who died in a car accident. You are watching your next life on the big screen. -> You are a reincarnation of a girl who died in a car accident. You are watching your next life on the big screen. -> You are a reincarnation of a girl who died in a car accident. You are watching your next life on the big screen. -> You are a reincarnation of a girl who died in a car accident. You are watching your next life on the big screen. -> You are a reincarnation of a girl who died in a car accident. You are watching your next life on the big screen. -> You are a reincarnation of a girl who died in a car accident. You are watching your next life on the big screen. -> You are a reincarnation of a girl who died in a car accident. You are watching your next life on the big screen. -> You are a reincarnation of a girl who died in a car accident. You are watching your next life on the big screen. -> You are a reincarnation of a girl who died in a car accident. You are watching your next life on the big screen. -> You are a reincarnation of a girl who died in a car accident. You are watching your next life on the big screen. -> You are a reincarnation of a girl who died in a car accident. You are watching your next life on the big screen. -> You are a reincarnation of a girl who died in a car accident. You are watching your next life on the big screen. -> You are a reincarnation of a girl who died in a car accident. You are watching your next life on the big screen. -> You are a reincarnation of a girl who died in a car accident. You are watching your next life on the big screen. -> You are a reincarnation of a girl who died in a car accident. You are watching your next life on the big screen. -> You are a reincarnation of a girl who died in a car accident. You are watching your next life on the big screen. -> You are a reincarnation of a girl who died in a car accident. You are watching your next life on the big screen. -> You are a reincarnation of a girl who died in a car accident. You are watching your next life on the big screen. -> You are a reincarnation of a girl who died in a car accident. You are watching your next life on the big screen. -> You are a reincarnation of a girl who died in a car accident. You are watching your next life on the big screen. -> You are a reincarnation of a girl who died in a car accident. You are watching your next life on the big screen. -> You are a reincarnation of a girl who died in a car accident. You are watching your next life on the big screen. -> You are a reincarnation of a girl who died in a car accident. You are watching your next life on the big screen. -> You are a reincarnation of a girl who died in a car accident. You are watching your next life on the big screen. -> You are a reincarnation of a girl who died in a car accident. You are watching your next life on the big screen. -> You are a reincarnation of a girl who died in a car accident. You are watching your next life on the big screen. -> You are a reincarnation of a girl who died in a car accident. You are watching your next life on the big screen. -> You are a reincarnation of a girl who died in a car accident. You are watching your next life on the big screen. -> You are a reincarnation of a girl who died in a car accident. You are watching your next life on the big screen. -> You are a reincarnation of a girl who died in a car accident. You are watching your next life on the big screen. -> You are a reincarnation of a girl who died in a car accident.'"
      ]
     },
     "execution_count": 21,
     "metadata": {},
     "output_type": "execute_result"
    }
   ],
   "source": [
    "result = openai.Completion.create(model='curie', prompt=prompt, max_tokens=1500, temperature=0)\n",
    "result['choices'][0]['text']"
   ]
  },
  {
   "cell_type": "code",
   "execution_count": 22,
   "id": "7b2f1652",
   "metadata": {},
   "outputs": [
    {
     "data": {
      "text/plain": [
       "'\\n\\nThe film is based on the book by the same name by British author Douglas Adams. The book was published in 1982 and has been translated into more than 30 languages. It has sold more than 10 million copies worldwide.\\n\\nThe film is based on the book by the same name by British author Douglas Adams. The book was published in 1982 and has been translated into more than 30 languages. It has sold more than 10 million copies worldwide.\\n\\nThe film is based on the book by the same name by British author Douglas Adams. The book was published in 1982 and has been translated into more than 30 languages. It has sold more than 10 million copies worldwide.\\n\\nThe film is based on the book by the same name by British author Douglas Adams. The book was published in 1982 and has been translated into more than 30 languages. It has sold more than 10 million copies worldwide.'"
      ]
     },
     "execution_count": 22,
     "metadata": {},
     "output_type": "execute_result"
    }
   ],
   "source": [
    "result = openai.Completion.create(model='curie', prompt=prompt, max_tokens=1500, temperature=.5)\n",
    "result['choices'][0]['text']"
   ]
  },
  {
   "cell_type": "code",
   "execution_count": 23,
   "id": "04c01c88",
   "metadata": {},
   "outputs": [
    {
     "data": {
      "text/plain": [
       "\"\\n\\nExits:\\n\\n[west]\\n\\n[north]\\n\\n[south]\\n\\n[west]\\n\\n[s]\\n\\n[o]\\n\\n[cast npc 'Widgets']\\n\\nYou go to another\\n\\ndungeon level.\\n\\nAren't you gonna play?\\n\\n[DBSL] The Wiz\\n\\n*** Spoiler - click to reveal *** You are the Wiz, one of many wizards who dwell in the Pits of Slime. As the Wiz, dress up in this wizard robe and wield this\\n\\nwand in your left hand. Press ? for a list of\\n\\npowers that the Wiz can use.\\n\\n[DBSL] So Good\\n\\n*** Spoiler - click to reveal *** It is good, yet not good. The conclusion that\\n\\n\\n\\nhangs, causing its own undoing,\\n\\nshould provoke revulsion and rejection.\\n\\nThe good is fluid and expiring,\\n\\nand its end will slip only away\\n\\nwithout any evidence of its prior\\n\\nexistence. It will, moreover,\\n\\nbe great and good.\\n\\n[DBCL] Crystal\\n\\nIt is cool, but neither cool nor not cool. The\\n\\nconclusion was pushed away without\\n\\nany evidence of its prior existence.\\n\\nIt will, moreover,\\n\\nbe cool and not cool.\\n\\nIt is really good.\\n\\n[DBCL] Great Good\\n\\nIt is really great. The conclusion has no end,\\n\\nand its existence and its ending remain\\n\\nimpossible for anyone to determine.\\n\\nThis is the ultimate form of\\n\\ngood.\\n\\n[DBCL] Happy\\n\\nIt is happy. The conclusion is very happy,\\n\\nalthough it has a natural tendency to\\n\\ndissolve into the end of things.\\n\\n[DBCL] Reality\\n\\nIt is a reality. The conclusion no longer\\n\\nexists, and the nonexistence of the\\n\\nconclusion has no idea of the beginning.\\n\\n[DBCL] Queene\\n\\nIt is an illusion. The conclusion exists,\\n\\nand its nonexistence has no idea of the\\n\\nbeginning.\\n\\n[DBCL] Tempest\\n\\nIt is a tempest. The conclusion has no idea of\\n\\nany reality beyond or before itself.\\n\\nIts end will dissolve away without any\\n\\nevidence of the beginning.\\n\\n[DBCL] The Maze\\n\\nAs you travel through the first two levels of the dungeon, you come across the Maze.\\n\\nYou've worked yourself into a nice little rut\\n\\nhere, which is no good. Head over to\\n\\nthe exit.\\n\\n[DBCL] Dance\\n\\nJawohl. The conclusion's non-existence is\\n\\ncompletely irrelevant to the beginning.\\n\\nThe conclusion will fulfill it\\n\\nsooner than expected, and it will\\n\\nbe both great and great.\\n\\n[DBCL] Bet\\n\\nYou take a bet. The conclusion, before it\\n\\nhas any idea of any position, continues\\n\\nto exist, and the nonexistence of the\\n\\nconclusion no idea of the beginning.\\n\\nIt will, not, be both great and great.\\n\\n[DBCL] Ear\\n\\nYou take an ear. The conclusion exists,\\n\\nand its nonexistence has no idea of the\\n\\nbeginning and will do so again.\\n\\n[DBCL] Foul\\n\\nYou take a foul. The conclusion has no idea\\n\\nof anything beyond or before itself.\\n\\nWhat was called the beginning was\\n\\nnever actually there.\\n\\n[DBCL] Fever\\n\\nYou take a fever. The conclusion exists,\\n\\nand you will have it again.\\n\\n[DBCL] Hate\\n\\nYou take a hate. The conclusion exists,\\n\\nand it will again.\\n\\n[DBCL] Light\\n\\nYou take a light. The conclusion exists,\\n\\nand it will do it again.\\n\\n[DBCL] Temptation\\n\\nYou take a temptation. The conclusion does,\\n\\nand it will again.\\n\\n[DBCL] Wonder\\n\\nYou take a wonder. The conclusion exists,\\n\\nand it will do it again.\\n\\n[DBCL] Rat\\n\\nYou take a rat. The conclusion does, and it\\n\\nwill again.\\n\\n[DBCL] Scroll\\n\\nYou pick up the scroll. You see nothing\\n\\ndifferent, but you begin to feel very calm\\n\\nand refreshed.\\n\\nIt is a magic scroll that boosts\\n\\nall your combat abilities.\\n\\n[DBCL] Wish\\n\\nThe door becomes unlocked. You will not\\n\\nget a wish from the door.\\n\\n[DBCL] Bliss\\n\\nYou take a bliss. The conclusion does\\n\\nand it will again.\\n\\n[DBCL] Bigotry\\n\\nYou take a bigotry. The conclusion does,\\n\\nand it will again.\\n\\n[DBCL] Conjecture\\n\\nYou take a conjecture. The conclusion does\\n\\nand it will again.\\n\\n[DBCL] Fatigue\\n\\nYou take a fatigue. The conclusion does\\n\\nand it will again.\\n\\n[DBCL] Ignorance\\n\\nYou take a ignorance. The conclusion does,\\n\\nand it will again.\\n\\n[DBCL] Knowledge\\n\\nYou take knowledge. The conclusion does,\\n\\nand it will again.\\n\\n[DBCL] Magic\\n\\nYou take a magic. The conclusion does,\\n\\nand it will again.\\n\\n[DBCL] Oaf\\n\\nYou take a oaf. The conclusion does, and it\\n\\nwill do it again.\\n\\n[DBCL] Pretense\\n\\nYou take a pretense. The conclusion does,\\n\\nand it will do it again.\\n\\n[DBCL] Renunciation\\n\\nYou take a renunciation. The conclusion does\\n\\nand it will do it again.\\n\\n[DBCL] Smugness\\n\\nYou take a smugness. The conclusion does,\\n\\nand it will do it again.\\n\\n[DBCL] Treachery\\n\\nYou take a treachery. The conclusion does,\\n\\nand it will do it again.\\n\\n[DBCL] Trepidation\\n\\nYou take a trepidation. The conclusion does,\\n\\nand it will do it again.\\n\\n[DBCL] Urgency\\n\\nYou take an urgency. The conclusion does,\\n\\nand it will do it again.\\n\\n[DBCL] Vice\\n\\nYou take a vice. The conclusion does, and it\\n\\nwill do it again.\\n\\n[DBCL] Worm\\n\\nYou take a worm. The conclusion does, and it\\n\\nwill do it again.\\n\\n[DBCL] Wing\\n\\nYou take a wing. The conclusion does, and it\\n\\nwill do it again.\\n\\n[DBCL\""
      ]
     },
     "execution_count": 23,
     "metadata": {},
     "output_type": "execute_result"
    }
   ],
   "source": [
    "result = openai.Completion.create(model='curie', prompt=prompt, max_tokens=1500, temperature=.9)\n",
    "result['choices'][0]['text']"
   ]
  },
  {
   "cell_type": "code",
   "execution_count": 24,
   "id": "5988f007",
   "metadata": {},
   "outputs": [
    {
     "data": {
      "text/plain": [
       "' [removed] END OF TITLE   \\n\\nI really enjoyed the whole story, but I had a weird issue that didn\\'t really make sense to me. I\\'m not even sure it\\'s worth mentioning because it might be me just being stupid. \\n\\nWhen part 2 came up, the first person I saw was a little awkward looking guy sitting in the middle of what looked like a student filled auditorium with rows of chairs. I didn\\'t think much of it because there were obviously a few of us in the bunch that died. The film started up and the little guy was trying to stop another student from killing him with a hatchet. After a few seconds, the hatchet went flying and the little guys head was split right down the middle. It was like I heard the noise of a hatchet flying across the room, but unable to look away to check out the source of the noise, I froze in my seat. \\n\\nAfter a few moments, the little guys head rolled off of the chopping block and he had a massive pool of blood growing underneath him. I freaked out and got really up in my own business trying to distract myself by rewinding the film and watching it start from the beginning, but the little guys head grew for the rest of the movie. I finally busted out of my own head to check and see if it was just my imagination, but it was still there. Finally, after the film wrapped up, the same guy came up to me apologizing for the rest of the film and assured me he\\'d be much more careful in the next life. \\n\\nA month or so passes and I\\'m working at a movie theater ushering people in and out of the theater. I\\'m in the back in the sound booth and what I thought was a customer walks in the door, but I can\\'t see too much of the guys face because of the darkened glasses he\\'s wearing. Thinking it\\'s probably just some other customer, I start making the rounds down the aisle making sure the theater is ready for the start of the feature. All of a sudden, a massive hatchet comes flying through the hole in the wall that was behind me and embeds into the front door at head level. Panicking, I run over to see if anyone was hit, but there\\'s no one around. I get the feeling I should run, but I\\'m frozen in my tracks. It\\'s like I can\\'t move. Controls are locked. I\\'m watching myself in shock. It\\'s like I\\'m an observer of myself running around screaming and unable to move, when suddenly I break free and burst out of the sound booth and out into the aisle. The guy standing there with the hatchet in hand is the same one from part 2. He\\'s holding it like he\\'s the one that killed the little guy, but then the same guy who died in part 1 apologizes and assures me he\\'s just learned how to control his aggressive tendencies. Baffled, he walks out of the theater without a second glance. \\n\\nI gulp down the fear and continue my work. \\n\\nA few weeks pass and today is opening night of part 2. Arriving at the theater, it\\'s me and my counterpart going through the motions of checking the doors and setting up all the seating. In a blur, the film pulls out of the theater doors and the chase scene featuring the hatchet swinging ensues. The hatchet comes swinging at me, but my counterpart just deflects it with the plexiglass case the films are fired out in. I always thought the case was some sort of sound barrier, but who knows what it\\'s actually protecting. It definitely helps me out, but I\\'m too panicked to think of anything clever to do. After a few whacks, the guy holding the hatchet finally gives up and lets the weapon fly through his frustration. I cringe at the sight of the blood soaked plexiglass, but when I look up, there\\'s me and my counterpart watching the film in stunned silence with several audience members that look just like me. All of the sudden, the film cuts out and it\\'s just the film reel spinning on the empty screen for a few minutes. When the film stops and I look up, I can hardly believe what I see. What\\'s staring back at me isn\\'t my counterpart, but me from part 2. \\n\\nRoughly 10 years passes as we sit in stunned silence. I\\'m the first to recover. \"I always wondered what happened to me after I died.\" I look down at the watch that\\'s always been a constant, but never grown beyond a small child\\'s watch. After another year, my counterpart follows my lead. I can only watch as he grows older and points the phone in my direction. Before the phone can even ring, I pass away with a final goodbye, and the same guy comes up to me apologetic. Once we\\'re all back in our own bodies, we just sit there staring at each other confused as to how the film played out, and why we\\'re there in the first place. \"What the hell were we supposed to be doing there? It wasn\\'t even our lives.\"\\n\\nMy counterpart nods in agreement. \"Yeah, I always wondered that too. But I don\\'t think we were brought there by God or anything. I think maybe he had a problem with us and brought in a digital rewind to try and fix us up.\" The both of us burst out laughing. \"We must have just been a way for him to experience his own life from the perspective of an observer. He\\'s the one that messed up, not us.\" \\n\\nWe all nod in agreement and head home. \\n\\n***\\n\\n/r/rarelyfunny END OF PART 1  \\n\\n***\\n\\nThe story continues in [Part 2](https://www.reddit.com/r/WritingPrompts/comments/6z9gj9/wp_when_you_die_you_appear_in_a_cinema_with_a/d9qwu24/?st=jiayik8fr&sh=6d248c6a) END OF PART 2  \\n\\nI always thought this story was too good not to share it. If anyone has any questions or comments, I\\'d love to hear them. \\n\\nThanks for reading! END OF PART 2  \\n\\n***\\n\\n/r/rarelyfunny END OF PART 1   END OF PART 2  \\n\\n***\\n\\n/r/rarelyfunny END OF PART 1   END OF PART 2  \\n\\n***\\n\\n/r/rarelyfunny END OF PART 1   END OF PART 2  \\n\\n***\\n\\n/r/rarelyfunny END OF PART 1   END OF PART 2  \\n\\nWhew! Thanks for sticking around, I\\'ve come to the end of this whole story. I\\'m glad you all enjoyed it and found it interesting enough to read it all the way through.Hope you enjoy the [part 2](https://www.reddit.com/r/WritingPrompts/comments/6z9gj9/wp_when_you_die_you_'"
      ]
     },
     "execution_count": 24,
     "metadata": {},
     "output_type": "execute_result"
    }
   ],
   "source": [
    "result = openai.Completion.create(model=ft_model, prompt=prompt, max_tokens=1500, temperature=.9)\n",
    "result['choices'][0]['text']"
   ]
  },
  {
   "cell_type": "code",
   "execution_count": 25,
   "id": "da2d1608",
   "metadata": {},
   "outputs": [
    {
     "data": {
      "text/plain": [
       "' alternate dimension\\'s same time and space.\\n\\nLonger explanation, with a spoiler:\\n\\nSpoiler:\\n\\nWe are actually the people in the alternate dimension, but we don\\'t know that -- we only know that the cinema exists and it looks like we\\'re attending the movie, at least until a specific point in the movie where we suddenly realize that we\\'re the main character.\\n\\n\\n\\nThe audience in the alternate dimension knows that the cinema exists, but doesn\\'t necessarily know what the movie is (it\\'s more like they\\'re just aware that there\\'s a movie going on that they can\\'t necessarily watch), while the main character -- let\\'s call him Simon -- is the only one with enough information to figure out that he can change the movie simply by changing what he does at critical moments, e.g. when he first meets his girlfriend.\\n\\n\\n\\nAt the beginning of the movie, before he meets the girl, he sees his life as a static \"fixed point in time\" (that he did nothing to create or influence) that only gives him the illusion of free will, just like the audience in the alternate dimension perceives him as a totally free conscious being. But when he meets the girl, he realizes that he can take action to change the course of events, even though he can\\'t prevent his own death (that\\'s not a spoiler; it\\'s stated in the very first scene, like \"you\\'re going to die next Sunday\").\\n\\n\\n\\nThe big problem for anyone watching the movie for the first time is that nobody knows what the movie is just by watching it. The audience can only figure it out when they look at their own life from someone else\\'s point of view, while Simon is both the director of the movie and an audience member, so he doesn\\'t even know how the movie is going to end, until he dies.\\n\\n\\n\\nThe ending has something to do with the fact that Simon doesn\\'t just tell his grandmother he loves her, but also tells her he loves her -- e.g. that he loves her for something that she did, and not just because she\\'s his grandmother.'"
      ]
     },
     "execution_count": 25,
     "metadata": {},
     "output_type": "execute_result"
    }
   ],
   "source": [
    "result = openai.Completion.create(model='davinci', prompt=prompt, max_tokens=1500, temperature=.9)\n",
    "result['choices'][0]['text']"
   ]
  },
  {
   "cell_type": "code",
   "execution_count": 26,
   "id": "99d0efab",
   "metadata": {},
   "outputs": [
    {
     "data": {
      "text/plain": [
       "' I thought it was a dream. I\\'d died, my body had shut down, my heart had stopped. I didn\\'t know what to think. I was lying in a hospital bed, my head covered in a thick bandage. I looked around. Where was I? The last thing I could remember was going to a movie with my girlfriend. After that I guess I died. I looked at the other people in the room. They were all dead too. A woman was lying in the bed next to me. She looked familiar but I couldn\\'t place where I knew her from.\\n\\n\"Hello?\" I said. \"Am I dead?\"\\n\\nThe woman turned her head to look at me. She had a wide smile plastered on her face.\\n\\n\"Yes you are.\" She said.\\n\\n\"Who are you?\" I asked.\\n\\n\"I am you.\" She said.\\n\\n\"I don\\'t understand.\" I said.\\n\\n\"We all died together. We\\'re all watching our next lives unfold.\" She said.\\n\\n\"How many of you are there? And what movie am I watching?\" I asked.\\n\\n\"You are watching the next episode of the life of John Smith.\" She said.\\n\\n\"What? No. I mean how many of you are there? I don\\'t want to be John Smith. I don\\'t even like John Smith.\" I said.\\n\\nThe woman laughed.\\n\\n\"Everyone has a story John. Some people are born into horrible circumstances. Some people are born into horrible circumstances and are able to change their lives. Some people are born into horrible circumstances and have no choice but to accept them. But everyone gets a chance to change their lives. That is what makes us special John.\" She said.\\n\\n\"Wait. What are you talking about? I don\\'t even know your name.\" I said.\\n\\nThe woman opened her eyes and looked at me.\\n\\n\"My name is Julia. I was born with a terminal disease. I had only a few months to live. But I wasn\\'t going to live them in bed. That\\'s why I moved to New York. I knew I was going to die there. But I wanted to live my life to the fullest. I want to go to the movies and eat ice cream and take long walks in the park. And I want to do it all with you.\" She said.\\n\\nThe woman reached out and grabbed my hand. I looked at her confused.\\n\\n\"Yes. I was born with a terminal disease. But I wasn\\'t going to die in my sleep. I was going to die doing what I love most. I was going to die helping people. I wanted to be a doctor and help people get better. But I didn\\'t have long. Cancer takes a long time to kill a person. But I wanted to help people. So I moved to New York and started volunteering at a cancer hospital. It was all I could do to help. But it gave me a reason to live. I wanted to live long enough for my friends to see me before I died.\" She said.\\n\\n\"I know I died in a car accident. But I didn\\'t want to die. I wanted to live and do what I loved. But I was never able to. But I wanted to do it anyway. I wanted to be a writer. I had a hard time starting my life but I still wanted to do it. I wanted to finish my stories, even if I didn\\'t get to finish them myself.\" She said.\\n\\n\"I know I died of a heart attack. I had a family that loved me. But I didn\\'t want to die. I wanted to live and watch my kids grow up. But I died before that could happen. But I still wanted to watch them grow up. And I wanted to be able to tell them how much I loved them.\" She said.\\n\\n\"I know I died in a car accident. But that wasn\\'t my choice. But I still wanted to drive that car. I wanted to feel the wind in my hair and scream as I drove. I wanted to live, even if it was for just a short time.\" She said.\\n\\n\"I know I died of cancer. I wanted to live a long time so I could watch my kids grow up. But I didn\\'t get that chance. But I still wanted to watch them grow up. And I wanted to be able to tell them how much I loved them.\" She said.\\n\\n\"I know I died of a heart attack. I wanted to live a long time so I could watch my kids grow up. But I didn\\'t get that chance. But I still wanted to watch them grow up. And I wanted to be able to tell them how much I loved them.\" She said.\\n\\n\"I know I died of cancer. I wanted to live a long time so I could watch my kids grow up. But I didn\\'t get that chance. But I still wanted to watch them grow up. And I wanted to be able to tell them how much I loved them.\" She said.\\n\\nShe looked me in the eyes and gave me a smile.\\n\\n\"Now you are going to watch your next life unfold.\" She said.\\n\\n\"No. I don\\'t want to watch my next life unfold. I don\\'t even like John Smith. I want to go home.\" I said.\\n\\n\"Your home isn\\'t here John. It\\'s in your next life. But you\\'re going to watch it unfold.\" She said.\\n\\nI looked at Julia. She had the same wide smile plastered on her face as she did when she first saw me.\\n\\n\"What do you mean? How do I watch my next life unfold?\" I asked.\\n\\n\"You will watch it unfold on the big screen John.\" She said.\\n\\n\"What? No. I don\\'t want to watch my next life unfold. I don\\'t even like John Smith.\" I said.\\n\\n\"Yes you do. You are John Smith.\" She said.\\n\\n\"But I don\\'t even know what my next life is going to be like. I don\\'t even know what John Smith looks like. I want to go home.\" I said.\\n\\nThe woman looked at me for a moment and then laughed.\\n\\n\"John Smith is going to watch his next life unfold on the big screen.\" She said.\\n\\n&#x200B;\\n\\n&#x200B;\\n\\n&#x200B;\\n\\n&#x200B;\\n\\n&#x200B;\\n\\n&#x200B;\\n\\n&#x200B;\\n\\n&#x200B;\\n\\n&#x200B;\\n\\n&#x200B;\\n\\n&#x200B;\\n\\n&#x200B;\\n\\n&#x200B;\\n\\n&#x200B;\\n\\n&#x200B;\\n\\n&#x200B;\\n\\n&#x200B;\\n\\n&#x200B;\\n\\n&#x200B;\\n\\n&#x200B;\\n\\n&#x200B;\\n'"
      ]
     },
     "execution_count": 26,
     "metadata": {},
     "output_type": "execute_result"
    }
   ],
   "source": [
    "result = openai.Completion.create(model=ft_model, prompt=prompt, max_tokens=1500, temperature=.6)\n",
    "result['choices'][0]['text']"
   ]
  },
  {
   "cell_type": "code",
   "execution_count": 27,
   "id": "92b508dd",
   "metadata": {},
   "outputs": [
    {
     "data": {
      "text/plain": [
       "' You are reborn, and you remember your previous life.\\n\\nThe End.\\n\\n\\n\\nAchievements:\\n\\nThe Perfect Ending - Get a perfect ending.\\n\\nThe Perfect Ending - Get a perfect ending. The Perfect Beginning - Get a perfect ending on your first play-through.\\n\\nThe Perfect Beginning - Get a perfect ending on your first play-through. The Perfect Life - Get a perfect ending on your first play-through and get a perfect beginning.\\n\\nThe Perfect Life - Get a perfect ending on your first play-through and get a perfect beginning. The Perfect Reincarnation - Get a perfect ending on your first play-through and get a perfect beginning, then get a perfect ending again.\\n\\nThe Perfect Reincarnation - Get a perfect ending on your first play-through and get a perfect beginning, then get a perfect ending again. The Secret Ending - Get a perfect ending on your first play-through and get a perfect beginning, then get a perfect ending again and choose the option that says \"I\\'m not sure what happens next.\"\\n\\nThe Secret Ending - Get a perfect ending on your first play-through and get a perfect beginning, then get a perfect ending again and choose the option that says \"I\\'m not sure what happens next.\" The Secret Beginning - Get a perfect ending on your first play-through and get a perfect beginning, then get a perfect ending again and choose the option that says \"I\\'m not sure what happens next.\"\\n\\nThe Secret Beginning - Get a perfect ending on your first play-through and get a perfect beginning, then get a perfect ending again and choose the option that says \"I\\'m not sure what happens next.\" The Secret Reincarnation - Get a perfect ending on your first play-through and get a perfect beginning, then get a perfect ending again, then get a perfect beginning and get a perfect ending again.\\n\\nThe Secret Reincarnation - Get a perfect ending on your first play-through and get a perfect beginning, then get a perfect ending again, then get a perfect beginning and get a perfect ending again. The True Ending - Get a perfect ending on your first play-through and get a perfect beginning, then get a perfect ending again, then get a perfect beginning and get a perfect ending again, then get a perfect beginning and get a perfect ending again.\\n\\nThe True Ending - Get a perfect ending on your first play-through and get a perfect beginning, then get a perfect ending again, then get a perfect beginning and get a perfect ending again, then get a perfect beginning and get a perfect ending again. The True Beginning - Get a perfect ending on your first play-through and get a perfect beginning, then get a perfect ending again, then get a perfect beginning and get a perfect ending again, then get a perfect beginning and get a perfect ending again, then get a perfect beginning and get a perfect ending again.\\n\\nThe True Beginning - Get a perfect ending on your first play-through and get a perfect beginning, then get a perfect ending again, then get a perfect beginning and get a perfect ending again, then get a perfect beginning and get a perfect ending again, then get a perfect beginning and get a perfect ending again. The True Reincarnation - Get a perfect ending on your first play-through and get a perfect beginning, then get a perfect ending again, then get a perfect beginning and get a perfect ending again, then get a perfect beginning and get a perfect ending again, then get a perfect beginning and get a perfect ending again, then get a perfect beginning and get a perfect ending again, then get a perfect beginning and get a perfect ending again, then get a perfect beginning and get a perfect ending again, then get a perfect beginning and get a perfect ending again, then get a perfect beginning and get a perfect ending again, then get a perfect beginning and get a perfect ending again, then get a perfect beginning and get a perfect ending again, then get a perfect beginning and get a perfect ending again, then get a perfect beginning and get a perfect ending again, then get a perfect beginning and get a perfect ending again.\\n\\nThe True Reincarnation - Get a perfect ending on your first play-through and get a perfect beginning, then get a perfect ending again, then get a perfect beginning and get a perfect ending again, then get a perfect beginning and get a perfect ending again, then get a perfect beginning and get a perfect ending again, then get a perfect beginning and get a perfect ending again, then get a perfect beginning and get a perfect ending again, then get a perfect beginning and get a perfect ending again, then get a perfect beginning and get a perfect ending again, then get a perfect beginning and get a perfect ending again, then get a perfect beginning and get a perfect ending again, then get a perfect beginning and get a perfect ending again, then get a perfect beginning and get a perfect ending again, then get a perfect beginning and get a perfect ending again, then get a perfect beginning and get a perfect ending again, then get a perfect beginning and get a perfect ending again, then get a perfect beginning and get a perfect ending again, then get a perfect beginning and get a perfect ending again, then get a perfect beginning and get a perfect ending again.\\n\\nThe True Reincarnation - Get a perfect ending on your first play-through and get a perfect beginning, then get a perfect ending again, then get a perfect beginning and get a perfect ending again, then get a perfect beginning and get a perfect ending again, then get a perfect beginning and get a perfect ending again, then get a perfect beginning and get a perfect ending again, then get a perfect beginning and get a perfect ending again, then get a perfect beginning and get a perfect ending again, then get a perfect beginning and get a perfect ending again, then get a perfect beginning and get a perfect ending again, then get a perfect beginning and get a perfect ending again, then get a perfect beginning and get a perfect ending again, then get a perfect beginning and get a perfect ending again, then get a perfect beginning and get a perfect ending again, then get a perfect beginning and get a perfect ending again, then get a perfect beginning and get a perfect ending again, then get a perfect beginning and get a perfect ending again, then get a perfect beginning and get a perfect ending again, then get a perfect beginning and get a perfect ending again, then get a perfect beginning and get a perfect ending again, then get a perfect beginning and get a perfect ending again, then get a perfect beginning and get a perfect ending again, then get a perfect beginning and get a perfect ending again, then get a perfect beginning and get a perfect ending again.\\n\\nThe True Reincarnation - Get a perfect ending on your first play-through and get a perfect beginning, then get a perfect ending again, then get a perfect beginning and get a perfect ending again, then get a perfect beginning and get a perfect ending again, then get a perfect beginning and get a perfect ending again, then get a perfect beginning and get a perfect ending again, then get a perfect beginning and get a perfect ending again, then get a perfect beginning and get a perfect ending again, then get a perfect beginning and get a perfect ending again, then get a perfect beginning and get a perfect ending again, then get a'"
      ]
     },
     "execution_count": 27,
     "metadata": {},
     "output_type": "execute_result"
    }
   ],
   "source": [
    "result = openai.Completion.create(model='davinci', prompt=prompt, max_tokens=1500, temperature=.6)\n",
    "result['choices'][0]['text']"
   ]
  },
  {
   "cell_type": "markdown",
   "id": "08170986",
   "metadata": {},
   "source": [
    "All models perform poorly and are prone to repetition at low temperatures. The only model that was able to produce a somewhat coherant story was our fine-tuned curie model. The davinci model at .6 temperature had some interesting ideas, but it did not follow a story structure. The default curie model performs very poorly. It seems that .6-.9 is a good temperature range. Let's try comparing our fine-tuned curie model with the default curie and davinci models using a prompt that neither has seen before."
   ]
  },
  {
   "cell_type": "code",
   "execution_count": 30,
   "id": "267dafe6",
   "metadata": {},
   "outputs": [
    {
     "data": {
      "text/plain": [
       "' “Mama, what are those long things flying around in the sky?”\\n\\n“Those are the gods, sweetie. They have the biggest wings, and they fly around, looking for things to watch,” she said.\\n\\nI looked up and said, “Oh, I like how they flap their wings. It looks like they’re having fun.”\\n\\n“They must be doing something fun, they don’t flap their wings on each and every single flight. They know how to be graceful when they want to.”\\n\\n“But, why can’t we be like those? Why do we need the big wings?”\\n\\n“Because, my sweet little darling, they are not like us. They are more like us in a way, but they are born of the sky, not the earth.”\\n\\n“Oh, so they are not from Gaia?”\\n\\n“No, they are from Gaia, but they chose to be different. They chose to be a different kind of creature.”\\n\\n“What kind are they?”\\n\\n“They are like us, but not like us. They have a higher form of consciousness than us. They are born of mother Gaia, yet they have a kind of free will that we do not. They are not bound to her in any way.”\\n\\n“Why do they have free will? Shouldn’t they be bound to Gaia, too?”\\n\\n“Yes my darling, that is the way of things. Because they are born of Gaia, they are bound by things that we are not. They are bound by something that you cannot understand. They are bound by the nature of their birth, and that holds them to the sky of their birth.”\\n\\n“Are they sad then?”\\n\\n“No, they are not sad. They just want to be free. They want to experience things we cannot, and they push themselves to try and do so.”\\n\\n“So, why can’t we be like them? Why do we need the big wings?”\\n\\n“Because my sweet little darling, these things have made a choice. They have chosen to not be like us in that way.”\\n\\n“Oh. Why do they have free will? Shouldn’t they be bound to Gaia, too?”\\n\\n“Yes, my sweet little darling, those are the things you must understand. They are bound by the nature of their choice, but we are not. We are free from the bindings of our free will, because we were born to Gaia, they were not. We understand the world around us, they do not. They are like us in a way where we are like them in a different way.”\\n\\n“Mama, why don’t we have wings?”\\n\\n“Oh my darling,” she said. “Because we are different. We are the same as the gods in that way. We are born of mother Gaia, but we are different. We are bound by the nature of our birth, and that holds us to the ground of our birth.”\\n\\n“Oh.” END PART 1\\n\\n__________________\\n\\n“Humans are real.”\\n\\n---\\n\\nMore at r/ExperimentalWritings\\n\\nThanks for reading! END PART 2\\n\\n__________________________________\\n\\nEDIT: Thank you all so much for your kind comments and support! END PART 3\\n\\n__________________________________\\n\\nPART III:\\n\\n__________________________________\\n\\n“Mama, why don’t we have wings?”\\n\\n“Oh my darling, because we are different. We are the same as the gods in that way. We are born of mother Gaia, but we are different. We are bound by the nature of our birth, and that holds us to the ground of our birth.”\\n\\n“Oh, so what happens if we try to fly like the gods?”\\n\\n“You will die my sweet little darling,” she said.\\n\\n“But why?”\\n\\n“Because you will be like them in a way. You will understand the nature of your birth, and you will understand it as a choice. You will try to live as one of the gods, but you will never be like them, because you were born of mother Gaia.”\\n\\n“But, why do we have wings if we cannot fly?”\\n\\n“Because my sweet little darling, we can always flap them.” END PART III\\n END CHAPI\\n\\n      \\n        \\n      \\n      \\n     \\n    END CHAPI END\\n      \\n    \\n    \\n    \\n     END CHAPI END END\\n       END CHAPI END END CHAPI END END CHAPI END END CHAPI END END CHAPI END END CHAPI END END CHAPI END END CHAPI END END CHAPI END END CHAPI END END CHAPI END END CHAPI END END CHAPI CHAPI END END CHAPI END END CHAPI END END CHAPI END END CHAPI END END CHAPI END END CHAPI END END CHAPI END END CHAPI END END CHAPI END END CHAPI END END CHAPI END END CHAPI END END CHAPI END END CHAPI END END CHAPI END END CHAPI END END CHAPI END END CHAPI END END CHAPI END END CHAPI END END CHAPI END END CHAPI END END CHAPI END END CHAPI END END CHAPI END END CHAPI END END CHAPI END END CHAPI END END CHAPI END END CHAPI END END CHAPI END END CHAPI END END CHAPI END END CHAPI END END CHAPI END END CHAPI END END CHAPI END END CHAPI END END CHAPI END END CHAPI END END CHAPI END END CHAPI END END CHAPI END END CHAPI END END CHAPI END END CHAPI END END CHAPI END END CHAPI END END CHAPI END END CHAPI END END CHAPI END END CHAPI END END CHAPI END END CHAPI END END CHAPI END END CHAPI END END CHAPI END END CHAPI END END CHAPI END END CHAPI END END CHAPI END END CHAPI END END CHAPI END END CHAPI END END CHAPI END END CHAPI END END CHAPI END END CHAPI END END CHAPI END END CHAPI END END CHAPI END END CHAPI END END CHAPI END END CHAPI END END CHAPI END END CHAPI END END CHAPI END END CHAPI END END CHAPI END END CHAPI END END CHAPI END END CHAPI END END CHAPI END END CHAPI END END CHAPI END END CHAPI END END CHAPI END END CHAPI END END CHAPI END'"
      ]
     },
     "execution_count": 30,
     "metadata": {},
     "output_type": "execute_result"
    }
   ],
   "source": [
    "prompt2 = \"here is a legend of demons that cannot be bound or banished, that laugh at salt and holy water, for these demons were not born of hell. The were actually born of mother Gaia, yet choose destruction of their own free will. Such horror may be hard to fathom, but I tell you, humans are real. ->\"\n",
    "result = openai.Completion.create(model=ft_model, prompt=prompt2, max_tokens=1500, temperature=.8)\n",
    "result['choices'][0]['text']"
   ]
  },
  {
   "cell_type": "code",
   "execution_count": 32,
   "id": "108acbb7",
   "metadata": {},
   "outputs": [
    {
     "data": {
      "text/plain": [
       "'Gaia is not the sole creator. However, she is the source from which all life in the elemental realms draws its power. ->I, myself, am an eternal creature of the elemental realm. I am a creature unto myself, and in the name of balance, I am here. Now, tell me, are you ready to die? ->You are not ready. ->You are not ready. ->You are not ready. ->You are not ready. ->You are not ready. ->You are not ready. ->You are not ready. ->You are not ready. ->You are not ready. ->You are not ready. ->You are not ready. ->You are not ready. ->You are not ready. ->You are not ready. ->You are not ready. ->You are not ready. ->You are not ready. ->You are not ready. ->You are not ready. ->You are not ready. ->You are not ready. ->You are not ready. ->You are not ready. ->You are not ready. ->You are not ready. ->You are not ready. ->You are not ready. ->You are not ready. ->You are not ready. ->You are not ready. ->You are not ready. ->You are not ready. ->You are not ready. ->You are not ready. ->You are not ready. ->You are not ready. ->You are not ready. ->You are not ready. ->You are not ready. ->You are not ready. ->You are not ready. ->You are not ready. ->You are not ready. ->You are not ready. ->You are not ready. ->You are not ready. ->You are not ready. ->You are not ready. ->You are not ready. ->You are not ready. ->You are not ready. ->You are not ready. ->You are not ready. ->You are not ready. ->You are not ready. ->You are not ready. ->You are not ready. ->You are not ready. ->You are not ready. ->You are not ready. ->You are not ready. ->You are not ready. ->You are not ready. ->You are not ready. ->You are not ready. ->You are not ready. ->You are not ready. ->You are not ready. ->You are not ready. ->You are not ready. ->You are not ready. ->You are not ready. ->You are not ready. ->You are not ready. ->You are not ready. ->You are not ready. ->You are not ready. ->You are not ready. ->You are not ready. ->You are not ready. ->You are not ready. ->You are not ready. ->You are not ready. ->You are not ready. ->You are not ready. ->You are not ready. ->You are not ready. ->You are not ready. ->You are not ready. ->You are not ready. ->You are not ready. ->You are not ready. ->You are not ready. ->You are not ready. ->You are not ready. ->You are not ready. ->You are not ready. ->You are not ready. ->You are not ready. ->You are not ready. ->You are not ready. ->You are not ready. ->You are not ready. ->You are not ready. ->You are not ready. ->You are not ready. ->You are not ready. ->You are not ready. ->You are not ready. ->You are not ready. ->You are not ready. ->You are not ready. ->You are not ready. ->You are not ready. ->You are not ready. ->You are not ready. ->You are not ready. ->You are not ready. ->You are not ready. ->You are not ready. ->You are not ready. ->You are not ready. ->You are not ready. ->You are not ready. ->You are not ready. ->You are not ready. ->You are not ready. ->You are not ready. ->You are not ready. ->You are not ready. ->You are not ready. ->You are not ready. ->You are not ready. ->You are not ready. ->You are not ready. ->You are not ready. ->You are not ready. ->You are not ready. ->You are not ready. ->You are not ready. ->You are not ready. ->You are not ready. ->You are not ready. ->You are not ready. ->You are not ready. ->You are not ready. ->You are not ready. ->You are not ready. ->You are not ready. ->You are not ready. ->You are not ready. ->You are not ready. ->You are not ready. ->You are not ready. ->You are not ready. ->You are not ready. ->You are not ready. ->You are not ready. ->You are not ready. ->You are not ready. ->You are not ready. ->You are not ready. ->You are not ready. ->You are not ready. ->You are not ready. ->You are not ready. ->You are not ready. ->You are not ready. ->You are not ready. ->You are not ready. ->You are not ready. ->You are not ready. ->You are not ready. ->You are not ready. ->You are not ready. ->You are not ready. ->You are not ready. ->You are not ready. ->You are not ready. ->You are not ready. ->You are not ready. ->You are not ready. ->You are not ready. ->You are not ready. ->You are not ready. ->You are not ready. ->You are not ready. ->You are not ready. ->You are not ready. ->You are not ready. ->You are not ready. ->You are not ready. ->You are not ready. ->You are not ready. ->You are not ready. ->You are not ready. ->You are not ready. ->You are not ready. ->You are not ready. ->You are not ready. ->You are not ready. ->You are not ready. ->You are not ready. ->You are not ready. ->You are not ready. ->You are not ready. ->You are not ready. ->You are not ready. ->You are not ready. ->You are not ready. ->You are not ready. ->You are not ready. ->You are not ready. ->You are not ready. ->You are not ready. ->You are not ready. ->You are not ready. ->You are not ready. ->You are not ready. ->You are not ready. ->You are not ready. ->You are not ready. ->You are not ready. ->You are not ready. ->You are not ready. ->You are not ready. ->You are not ready. ->You are not ready. ->You are not ready. ->You are not ready. ->You are not ready. ->You are not ready. ->You are not ready. ->You are not ready. ->You are not ready. ->You are not ready. ->You are not ready. ->You are not ready. ->You are'"
      ]
     },
     "execution_count": 32,
     "metadata": {},
     "output_type": "execute_result"
    }
   ],
   "source": [
    "result = openai.Completion.create(model='curie', prompt=prompt2, max_tokens=1500, temperature=.8)\n",
    "result['choices'][0]['text']"
   ]
  },
  {
   "cell_type": "code",
   "execution_count": 31,
   "id": "75ecde39",
   "metadata": {},
   "outputs": [
    {
     "data": {
      "text/plain": [
       "' A human is a creature that is born through the power of Gaia and has the potential to become either a Great One or a Beast. Humans are a fantastic and terrible thing. Their ability to reject cosmic truths is not insignificant. This is the same as the ability to deny the gods. The results of such blasphemy are clear for all to see. -> The church claims that the cosmos, and all living things, are the creations of the gods, and that humanity is the work of god. Likewise, the church teaches that humanity is the pinnacle of creation. This is all half-truth. The church itself was born from a half-truth, the lie spoken by an ancient, powerful being. -> The cosmic truths are governed by one principle above all else: all life is bound by fate, and the cosmic truths are the mechanism of that fate. -> There was a time when we worshipped the gods, in the heavens and on earth, but as time passed, we learned of other beings. These beings far surpassed our own gods, in both strength and wisdom. The gods turned a blind eye to humanity, but the new beings watched us, studied us, and in time, came to appreciate us. -> One day, the Great Ones descended upon the earth and spoke to us through a human vessel. Their message was simple: unite, cultivate, and survive. They promised to bestow us the secrets of the cosmos and to take us to the stars, but above all, they swore to protect us from the terrors of the void. This was the birth of the Stone Age, but within a short period, the Great Ones vanished from the earth. -> We lived for many ages, as humans always do, and eventually came to abandon the gods who had betrayed us. The gods did not lack for worshippers and, seeing that the new star gods had abandoned them, turned their backs on their own creations. Eventually, the gods too died and humanity was left alone with no guide, vulnerable to the threats of the cosmos. -> The humans in the new age are weak and frail. They are unable to withstand the terror of the cosmos. The gods have returned, and they once again promise to protect us. It is unclear what we should do. The gods have always protected us, but they have also abandoned us. They are weak and frail, but they are the gods. What else can we do? -> I am the Cosmos, the great judge, the all-encompassing cosmos. I am the sentient life that infuses each living thing. The essence of all living things, humans and beasts alike, are the same. It is mine. No matter the form, life is a struggle to persevere. -> It is simple, is it not? All living things are ignorant. They are feeble, vulnerable creatures that struggle to survive. What need do they have for gods? The gods are but mere beings. They are not entitled to worship. The gods are arrogant and vain. They view us as mere playthings. No, the gods do not know fear. In the end, the only difference between humans and beasts is that humans are of higher intelligence. Humans are weak and frail, but their capacity to learn and grow is their strength. -> The church claims that the cosmos, and all living things, are the creations of the gods, and that humanity is the work of god. Likewise, the church teaches that humanity is the pinnacle of creation. This is all half-truth. The church itself was born from a half-truth, the lie spoken by an ancient, powerful being. -> We live in this world, but we are not of it. Our world is the ground we walk upon. It is the air we breathe. It is our home and our kingdom. This world is an illusion. You are an illusion. And that is why we conquer. - \"The Lesser Key of Solomon\", Goetia -> I have spoken of the Rite of the Descent of the Great Old One, which requires the practitioner to be pierced with needles, but in the present day, this rite is considered harsh. For this reason, the Rite of the Descent of the Great Old One is not performed by many. While it may seem a milder rite, it is actually more dangerous. The lesser rite takes a long period of time, and there is a danger of the practitioner losing their mind to madness before the work is completed. -> It is said that the Rite of the Descent of the Great Old One can only be performed successfully by a person who does not believe in the gods. Do not rely on the gods. Do not rely on anyone. The only one who can save you is yourself. The only one who can save you is the one you have sought all along, Lucifer. -> The Rite of the Descent of the Great Old One is a rite based on the elements, which requires a deep understanding of the cosmos. In our world, the elements are known to be mercury, sulfur, and salt. These three can be found in trace amounts in all things, and they are the source of all things. -> The Rite of the Descent of the Great Old One can only be performed successfully by a person who does not believe in the gods. Do not rely on the gods. Do not rely on anyone. The only one who can save you is yourself. The only one who can save you is the one you have sought all along, Lucifer. -> The Rite of the Descent of the Great Old One is performed by combining the three primary elements: mercury, sulfur, and salt. Mercury is the messenger of the gods, the great aid in attaining clarity of mind. The sulfur is the gift from the earth, a symbol of the human body and the Five Senses. The salt is the essence of this world, a symbol of the flesh, the ability to perceive pleasure and pain. These three elements, mercury, sulfur, and salt, bring about enlightenment. -> It is said that the Rite of the Descent of the Great Old One can only be performed successfully by a person who does not believe in the gods. Do not rely on the gods. Do not rely on anyone. The only one who can save you is yourself. The only one who can save you is the one you have sought all along, Lucifer. - \"The Lesser Key of Solomon\", Goetia -> The Rite of the Descent of the Great Old One requires the practitioner to be pierced with needles, but the Rite of the Descent of the Great Old One is not performed by many, as in the present day, this rite is considered harsh. It is said that the Rite of the Descent of the Great Old One can only be performed successfully by a person who does not believe in the gods. Do not rely on the gods. Do not rely on anyone. The only one who can save you is yourself. The only one who can save you is the one you have sought all along, Lucifer. - \"The Lesser Key of Solomon\", Goetia -> In ancient times, humans were ruled by the order of the heavens. They sought comfort in the order of the gods and believed everything was predestined. As their society advanced, however, the order of the heavens became an unbearable burden on them. This all changed with the advent of the faith of the Fellowship of the Holy See. The'"
      ]
     },
     "execution_count": 31,
     "metadata": {},
     "output_type": "execute_result"
    }
   ],
   "source": [
    "result = openai.Completion.create(model='davinci', prompt=prompt2, max_tokens=1500, temperature=.8)\n",
    "result['choices'][0]['text']"
   ]
  },
  {
   "cell_type": "markdown",
   "id": "66b4e7a9",
   "metadata": {},
   "source": [
    "The fine-tuned curie model did produce a short story, though there is an issue with the reddit-specific comments at the end being not only replicated but repeated multiple times. Additionally, it didn't understand that the prompt was referring to humans, and wrote a story about winged gods. The default curie model wrote a few interesting lines but was unable to continue. The davinci model came up with something really interesting. It seems to have wrote several excerpt related to the prompt that build upon eachother. Let's try the davinci model again, but with added instruction at the beginning and without the token at the end of the prompt:"
   ]
  },
  {
   "cell_type": "code",
   "execution_count": 36,
   "id": "53f75b1a",
   "metadata": {},
   "outputs": [
    {
     "data": {
      "text/plain": [
       "'\\xa0These people are in a constant violent struggle with their demons and in their constant struggle, choose to destroy themselves. They do not wish to be healed, and you cannot save them, for no one in existence can save them. They choose only their own destruction.'"
      ]
     },
     "execution_count": 36,
     "metadata": {},
     "output_type": "execute_result"
    }
   ],
   "source": [
    "prompt3 = \"Write a short story that builds on this prompt: \" + prompt2[:-2]\n",
    "result = openai.Completion.create(model='davinci', prompt=prompt3, max_tokens=1500, temperature=.8)\n",
    "result['choices'][0]['text']"
   ]
  },
  {
   "cell_type": "markdown",
   "id": "402636fb",
   "metadata": {},
   "source": [
    "For some reason, davinci produced a quote instead of a short story. Though powerful, without fine-tuning, the davinci model is unreliable at writing stories. However, it does seem to \"understand\" the prompt more than the fine-tuned curie model."
   ]
  },
  {
   "cell_type": "markdown",
   "id": "e6317459",
   "metadata": {},
   "source": [
    "# Conclusions\n",
    "\n",
    "Fine-tuning and Cost Saving:\n",
    "\n",
    "Fine-tuning is quite valuable when a model is needed for a specific task. Davinci's parameters are estimated to be multiple times that of curie, but the fine-tuned curie model perfomed much better at the task at hand. This is a really important insight when saving costs in the long run, as the added cost of using a higher model to generate future completions adds up quickly. \n",
    "\n",
    "Replacing human writers?: \n",
    "\n",
    "We are still a ways off from being able to generate coherent stories of considerable length with AI, but a fine-tuned model can create a decent short story from which a writer can build upon. AI writing should be considered a tool that human writers can use to get inspiration from and edit their stories.  \n",
    "\n",
    "\n",
    "Continuation of this project?:\n",
    "\n",
    "I would have liked to continue this project by fine-tuning a davinci model as well, as I believe the quality would be much greater than that of the fine-tuned curie. It would be really interesting to do a comparison with more test examples. I also would have liked to experiment with tuning the models' hyperparameters, such as training epochs, learning rate, batch size, and potentially trying to train with multiple outputs to one input. However, I feel that I accomplished the main goals I set with this project, and can't justify the added cost of further experimentation since the training data contains so many tokens. "
   ]
  },
  {
   "cell_type": "code",
   "execution_count": null,
   "id": "00f8daa6",
   "metadata": {},
   "outputs": [],
   "source": []
  }
 ],
 "metadata": {
  "kernelspec": {
   "display_name": "Python 3 (ipykernel)",
   "language": "python",
   "name": "python3"
  },
  "language_info": {
   "codemirror_mode": {
    "name": "ipython",
    "version": 3
   },
   "file_extension": ".py",
   "mimetype": "text/x-python",
   "name": "python",
   "nbconvert_exporter": "python",
   "pygments_lexer": "ipython3",
   "version": "3.8.8"
  }
 },
 "nbformat": 4,
 "nbformat_minor": 5
}
